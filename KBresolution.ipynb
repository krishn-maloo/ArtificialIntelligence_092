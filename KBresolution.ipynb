{
  "nbformat": 4,
  "nbformat_minor": 0,
  "metadata": {
    "colab": {
      "provenance": [],
      "authorship_tag": "ABX9TyMRX5pgfu9/yQqbXQpUjaw5",
      "include_colab_link": true
    },
    "kernelspec": {
      "name": "python3",
      "display_name": "Python 3"
    },
    "language_info": {
      "name": "python"
    }
  },
  "cells": [
    {
      "cell_type": "markdown",
      "metadata": {
        "id": "view-in-github",
        "colab_type": "text"
      },
      "source": [
        "<a href=\"https://colab.research.google.com/github/krishn-maloo/ArtificialIntelligence_092/blob/main/KBresolution.ipynb\" target=\"_parent\"><img src=\"https://colab.research.google.com/assets/colab-badge.svg\" alt=\"Open In Colab\"/></a>"
      ]
    },
    {
      "cell_type": "code",
      "execution_count": null,
      "metadata": {
        "id": "NJBNXTdp5Q9m"
      },
      "outputs": [],
      "source": [
        "def tell(kb, rule):\n",
        "    kb.append(rule)\n",
        "\n",
        "combinations = [(True, True, True), (True, True, False),\n",
        "                (True, False, True), (True, False, False),\n",
        "                (False, True, True), (False, True, False),\n",
        "                (False, False, True), (False, False, False)]\n",
        "\n",
        "\n",
        "def ask(kb, q):\n",
        "    for c in combinations:\n",
        "        s = all(rule(c) for rule in kb)\n",
        "        f = q(c)\n",
        "        print(s, f)\n",
        "        if s != f and s != False:\n",
        "            return 'Does not entail'\n",
        "    return 'Entails'\n",
        "\n",
        "\n",
        "kb = []\n",
        "\n",
        "# Get user input for Rule 1\n",
        "rule_str = input(\"Enter Rule 1 as a lambda function (e.g., lambda x: x[0] or x[1] and (x[0] and x[1]): \")\n",
        "r1 = eval(rule_str)\n",
        "tell(kb, r1)\n",
        "\n",
        "# Get user input for Query\n",
        "query_str = input(\"Enter Query as a lambda function (e.g., lambda x: x[0] and x[1] and (x[0] or x[1]): \")\n",
        "q = eval(query_str)\n",
        "\n",
        "# Ask KB Query\n",
        "result = ask(kb, q)\n",
        "print(result)\n"
      ]
    }
  ]
}