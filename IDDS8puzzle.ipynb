{
  "nbformat": 4,
  "nbformat_minor": 0,
  "metadata": {
    "colab": {
      "provenance": [],
      "authorship_tag": "ABX9TyOHvlRghIjTC/7Q9yk4TqaJ",
      "include_colab_link": true
    },
    "kernelspec": {
      "name": "python3",
      "display_name": "Python 3"
    },
    "language_info": {
      "name": "python"
    }
  },
  "cells": [
    {
      "cell_type": "markdown",
      "metadata": {
        "id": "view-in-github",
        "colab_type": "text"
      },
      "source": [
        "<a href=\"https://colab.research.google.com/github/krishn-maloo/ArtificialIntelligence_092/blob/main/IDDS8puzzle.ipynb\" target=\"_parent\"><img src=\"https://colab.research.google.com/assets/colab-badge.svg\" alt=\"Open In Colab\"/></a>"
      ]
    },
    {
      "cell_type": "code",
      "execution_count": 1,
      "metadata": {
        "colab": {
          "base_uri": "https://localhost:8080/"
        },
        "id": "s-pplXevhNDg",
        "outputId": "cc87fd5c-ae76-419c-c71e-bece3eebf6a2"
      },
      "outputs": [
        {
          "output_type": "stream",
          "name": "stdout",
          "text": [
            "Success!! It is possible to solve 8 Puzzle problem\n",
            "Path: [[1, 2, 3, 0, 4, 6, 7, 5, 8], [1, 2, 3, 4, 0, 6, 7, 5, 8], [1, 2, 3, 4, 5, 6, 7, 0, 8], [1, 2, 3, 4, 5, 6, 7, 8, 0]]\n"
          ]
        }
      ],
      "source": [
        "# 8 Puzzle problem using Iterative deepening depth first search algorithm\n",
        "\n",
        "def id_dfs(puzzle, goal, get_moves):\n",
        "    import itertools\n",
        "#get_moves -> possible_moves\n",
        "    def dfs(route, depth):\n",
        "        if depth == 0:\n",
        "            return\n",
        "        if route[-1] == goal:\n",
        "            return route\n",
        "        for move in get_moves(route[-1]):\n",
        "            if move not in route:\n",
        "                next_route = dfs(route + [move], depth - 1)\n",
        "                if next_route:\n",
        "                    return next_route\n",
        "\n",
        "    for depth in itertools.count():\n",
        "        route = dfs([puzzle], depth)\n",
        "        if route:\n",
        "            return route\n",
        "\n",
        "\n",
        "def possible_moves(state):\n",
        "    b = state.index(0)  # ) indicates White space -> so b has index of it.\n",
        "    d = []  # direction\n",
        "\n",
        "    if b not in [0, 1, 2]:\n",
        "        d.append('u')\n",
        "    if b not in [6, 7, 8]:\n",
        "        d.append('d')\n",
        "    if b not in [0, 3, 6]:\n",
        "        d.append('l')\n",
        "    if b not in [2, 5, 8]:\n",
        "        d.append('r')\n",
        "\n",
        "    pos_moves = []\n",
        "    for i in d:\n",
        "        pos_moves.append(generate(state, i, b))\n",
        "    return pos_moves\n",
        "\n",
        "\n",
        "def generate(state, m, b):\n",
        "    temp = state.copy()\n",
        "\n",
        "    if m == 'd':\n",
        "        temp[b + 3], temp[b] = temp[b], temp[b + 3]\n",
        "    if m == 'u':\n",
        "        temp[b - 3], temp[b] = temp[b], temp[b - 3]\n",
        "    if m == 'l':\n",
        "        temp[b - 1], temp[b] = temp[b], temp[b - 1]\n",
        "    if m == 'r':\n",
        "        temp[b + 1], temp[b] = temp[b], temp[b + 1]\n",
        "\n",
        "    return temp\n",
        "\n",
        "\n",
        "# calling ID-DFS\n",
        "initial = [1, 2, 3, 0, 4, 6, 7, 5, 8]\n",
        "goal = [1, 2, 3, 4, 5, 6, 7, 8, 0]\n",
        "\n",
        "route = id_dfs(initial, goal, possible_moves)\n",
        "\n",
        "if route:\n",
        "    print(\"Success!! It is possible to solve 8 Puzzle problem\")\n",
        "    print(\"Path:\", route)\n",
        "else:\n",
        "    print(\"Failed to find a solution\")"
      ]
    }
  ]
}