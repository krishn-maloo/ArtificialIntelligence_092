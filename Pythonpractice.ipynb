{
  "nbformat": 4,
  "nbformat_minor": 0,
  "metadata": {
    "colab": {
      "provenance": [],
      "authorship_tag": "ABX9TyMp3QKxv11sQDfx7k/tsC7v",
      "include_colab_link": true
    },
    "kernelspec": {
      "name": "python3",
      "display_name": "Python 3"
    },
    "language_info": {
      "name": "python"
    }
  },
  "cells": [
    {
      "cell_type": "markdown",
      "metadata": {
        "id": "view-in-github",
        "colab_type": "text"
      },
      "source": [
        "<a href=\"https://colab.research.google.com/github/krishn-maloo/ArtificialIntelligence_092/blob/main/Pythonpractice.ipynb\" target=\"_parent\"><img src=\"https://colab.research.google.com/assets/colab-badge.svg\" alt=\"Open In Colab\"/></a>"
      ]
    },
    {
      "cell_type": "markdown",
      "source": [
        "Age Classification"
      ],
      "metadata": {
        "id": "fBLhJpbenEWD"
      }
    },
    {
      "cell_type": "code",
      "execution_count": null,
      "metadata": {
        "colab": {
          "base_uri": "https://localhost:8080/"
        },
        "id": "NJJ6N3W-WmdG",
        "outputId": "b4f50386-4d66-41c9-8982-29020afe4151"
      },
      "outputs": [
        {
          "output_type": "stream",
          "name": "stdout",
          "text": [
            "Enter your age 7\n",
            "You are too young\n"
          ]
        }
      ],
      "source": [
        "age=int(input(\"Enter your age \"))\n",
        "x=\"You are \"\n",
        "if(age<10):\n",
        "    print(x+\"too young\")\n",
        "elif(age<20 and age >=10):\n",
        "    print(x+\"a teenager\")\n",
        "elif(age<30 and age>=20):\n",
        "    print(x+\"batman\")\n",
        "elif(age<50 and age>=30):\n",
        "    print(x+\"experienced\")\n",
        "else:\n",
        "    print(x+\"done now\")"
      ]
    },
    {
      "cell_type": "markdown",
      "source": [
        "Multiplication Table"
      ],
      "metadata": {
        "id": "jEzk9D5XnI_o"
      }
    },
    {
      "cell_type": "code",
      "source": [
        "number=int(input(\"Enter the number to get the table \"))\n",
        "i=1\n",
        "while(i<=10):\n",
        "  print(number,\" * \", i , \" = \" , (number*i))\n",
        "  i=i+1"
      ],
      "metadata": {
        "colab": {
          "base_uri": "https://localhost:8080/"
        },
        "id": "As7aLy9tW3T5",
        "outputId": "dd798b45-fc12-4409-a552-38b28064a73e"
      },
      "execution_count": null,
      "outputs": [
        {
          "output_type": "stream",
          "name": "stdout",
          "text": [
            "Enter the number to get the table 8\n",
            "8  *  1  =  8\n",
            "8  *  2  =  16\n",
            "8  *  3  =  24\n",
            "8  *  4  =  32\n",
            "8  *  5  =  40\n",
            "8  *  6  =  48\n",
            "8  *  7  =  56\n",
            "8  *  8  =  64\n",
            "8  *  9  =  72\n",
            "8  *  10  =  80\n"
          ]
        }
      ]
    },
    {
      "cell_type": "markdown",
      "source": [
        "Pattern Printing"
      ],
      "metadata": {
        "id": "7_wyiBY4nMEq"
      }
    },
    {
      "cell_type": "code",
      "source": [
        "x=int(input(\"Enter number of times the pattern should be printed\"))\n",
        "i=1\n",
        "while(i<=x):\n",
        "  j=0\n",
        "  while(j<i):\n",
        "    print(i)\n",
        "    j=j+1\n",
        "  i=i+1\n",
        "  print(\"\\n\")\n"
      ],
      "metadata": {
        "colab": {
          "base_uri": "https://localhost:8080/"
        },
        "id": "QpBx3MDHX_TJ",
        "outputId": "27d65362-6889-449f-f2ab-076ec46990bb"
      },
      "execution_count": null,
      "outputs": [
        {
          "output_type": "stream",
          "name": "stdout",
          "text": [
            "Enter number of times the pattern should be printed4\n",
            "1\n",
            "\n",
            "\n",
            "2\n",
            "2\n",
            "\n",
            "\n",
            "3\n",
            "3\n",
            "3\n",
            "\n",
            "\n",
            "4\n",
            "4\n",
            "4\n",
            "4\n",
            "\n",
            "\n"
          ]
        }
      ]
    },
    {
      "cell_type": "markdown",
      "source": [
        "Bubble Sort"
      ],
      "metadata": {
        "id": "mMH4SpmenOEC"
      }
    },
    {
      "cell_type": "code",
      "source": [
        "n=int(input(\"Enter size of the array\"))\n",
        "arr=[]\n",
        "for _ in range(n):\n",
        "  arr.append(int(input()))\n",
        "print(\"Unsorted array \",arr)\n",
        "i=0\n",
        "while (i<n):\n",
        "  j=i\n",
        "  while (j<n):\n",
        "    if arr[i]>arr[j]:\n",
        "      x=arr[i]\n",
        "      arr[i]=arr[j]\n",
        "      arr[j]=x\n",
        "    j=j+1\n",
        "  i=i+1\n",
        "print(\"Sorted array \",arr)\n"
      ],
      "metadata": {
        "colab": {
          "base_uri": "https://localhost:8080/"
        },
        "id": "URt2XChPY-tY",
        "outputId": "4537d4af-ba4c-469c-ef44-9107b402b33a"
      },
      "execution_count": null,
      "outputs": [
        {
          "output_type": "stream",
          "name": "stdout",
          "text": [
            "Enter size of the array6\n",
            "2\n",
            "5\n",
            "8\n",
            "4\n",
            "9\n",
            "3\n",
            "Unsorted array  [2, 5, 8, 4, 9, 3]\n",
            "Sorted array  [2, 3, 4, 5, 8, 9]\n"
          ]
        }
      ]
    },
    {
      "cell_type": "markdown",
      "source": [
        "Integer Reversal"
      ],
      "metadata": {
        "id": "nRH74s7FnQai"
      }
    },
    {
      "cell_type": "code",
      "source": [
        "num=int(input(\"Enter the interger to be reversed \"))\n",
        "numsev=num\n",
        "numrev=0\n",
        "while(num>0):\n",
        "  numrev=numrev*10+num%10\n",
        "  num=num//10\n",
        "print(numrev)"
      ],
      "metadata": {
        "colab": {
          "base_uri": "https://localhost:8080/"
        },
        "id": "suDKysvVY61Q",
        "outputId": "aa65e919-53be-4654-b08c-74cc8deeeed6"
      },
      "execution_count": null,
      "outputs": [
        {
          "output_type": "stream",
          "name": "stdout",
          "text": [
            "Enter the interger to be reversed 123\n",
            "321\n"
          ]
        }
      ]
    },
    {
      "cell_type": "markdown",
      "source": [
        "Palindrome Checker"
      ],
      "metadata": {
        "id": "FlPX-UQHnSZi"
      }
    },
    {
      "cell_type": "code",
      "source": [
        "if (numsev==numrev):\n",
        "  print(\"The number is a palindrome\")\n",
        "else:\n",
        "  print(\"The number is not a palindrome\")"
      ],
      "metadata": {
        "colab": {
          "base_uri": "https://localhost:8080/"
        },
        "id": "uVI8uDihfYAu",
        "outputId": "c0fed7b0-62e8-473f-bb92-7364bd379a11"
      },
      "execution_count": null,
      "outputs": [
        {
          "output_type": "stream",
          "name": "stdout",
          "text": [
            "The number is not a palindrome\n"
          ]
        }
      ]
    }
  ]
}