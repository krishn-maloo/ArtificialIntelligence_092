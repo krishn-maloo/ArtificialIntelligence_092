{
  "nbformat": 4,
  "nbformat_minor": 0,
  "metadata": {
    "colab": {
      "provenance": [],
      "authorship_tag": "ABX9TyMri3dJyiysBlh+Z2uZTF+/",
      "include_colab_link": true
    },
    "kernelspec": {
      "name": "python3",
      "display_name": "Python 3"
    },
    "language_info": {
      "name": "python"
    }
  },
  "cells": [
    {
      "cell_type": "markdown",
      "metadata": {
        "id": "view-in-github",
        "colab_type": "text"
      },
      "source": [
        "<a href=\"https://colab.research.google.com/github/krishn-maloo/ArtificialIntelligence_092/blob/main/4roomvaccumcleaner.ipynb\" target=\"_parent\"><img src=\"https://colab.research.google.com/assets/colab-badge.svg\" alt=\"Open In Colab\"/></a>"
      ]
    },
    {
      "cell_type": "code",
      "execution_count": 2,
      "metadata": {
        "colab": {
          "base_uri": "https://localhost:8080/"
        },
        "id": "k5s5VORv5JZK",
        "outputId": "0d63dbff-f1a4-4e8c-eb40-0dca0d85175a"
      },
      "outputs": [
        {
          "output_type": "stream",
          "name": "stdout",
          "text": [
            "Enter Initial Location of Vacuum (A/B/C/D): B\n",
            "Enter status of each room (1 - dirty, 0 - clean):\n",
            "Status of Room A: 1\n",
            "Status of Room B: 1\n",
            "Status of Room C: 0\n",
            "Status of Room D: 0\n",
            "Initial Location Condition: {'A': 1, 'B': 1, 'C': 0, 'D': 0}\n",
            "Cleaning Room B...\n",
            "Room B has been cleaned. Current cost: 1\n",
            "Room C is already clean.\n",
            "Room D is already clean.\n",
            "Cleaning Room A...\n",
            "Room A has been cleaned. Current cost: 2\n",
            "Final State of Rooms: {'A': 0, 'B': 0, 'C': 0, 'D': 0}\n",
            "Performance Measurement (Total Cost): 2\n"
          ]
        }
      ],
      "source": [
        "def vacuum_world():\n",
        "    # Initializing goal_state for four rooms\n",
        "    # 0 indicates Clean and 1 indicates Dirty\n",
        "    goal_state = {'A': 0, 'B': 0, 'C': 0, 'D': 0}\n",
        "    cost = 0\n",
        "\n",
        "    # User input for initial vacuum location and status of each room\n",
        "    location_input = input(\"Enter Initial Location of Vacuum (A/B/C/D): \")\n",
        "    print(\"Enter status of each room (1 - dirty, 0 - clean):\")\n",
        "    for room in goal_state:\n",
        "        goal_state[room] = int(input(f\"Status of Room {room}: \"))\n",
        "\n",
        "    print(\"Initial Location Condition: \" + str(goal_state))\n",
        "\n",
        "    # Function to clean a room\n",
        "    def clean_room(room):\n",
        "        nonlocal cost\n",
        "        if goal_state[room] == 1:\n",
        "            print(f\"Cleaning Room {room}...\")\n",
        "            goal_state[room] = 0\n",
        "            cost += 1  # Cost for cleaning\n",
        "            print(f\"Room {room} has been cleaned. Current cost: {cost}\")\n",
        "        else:\n",
        "            print(f\"Room {room} is already clean.\")\n",
        "\n",
        "    # Cleaning logic\n",
        "    rooms = ['A', 'B', 'C', 'D']\n",
        "    current_index = rooms.index(location_input)\n",
        "\n",
        "    # Clean all rooms starting from the initial location\n",
        "    for i in range(current_index, len(rooms)):\n",
        "        clean_room(rooms[i])\n",
        "\n",
        "    # Clean remaining rooms (if the initial location was not 'A')\n",
        "    for i in range(0, current_index):\n",
        "        clean_room(rooms[i])\n",
        "\n",
        "    # Output final state and performance measure\n",
        "    print(\"Final State of Rooms: \" + str(goal_state))\n",
        "    print(\"Performance Measurement (Total Cost): \" + str(cost))\n",
        "\n",
        "vacuum_world()\n"
      ]
    }
  ]
}